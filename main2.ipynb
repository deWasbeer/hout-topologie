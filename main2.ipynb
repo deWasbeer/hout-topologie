{
 "cells": [
  {
   "cell_type": "code",
   "execution_count": 1,
   "id": "e581c60c-c7b6-4dab-a68d-404b868dd2c5",
   "metadata": {},
   "outputs": [
    {
     "data": {
      "text/html": [
       "<div id=\"glowscript\" class=\"glowscript\"></div>"
      ],
      "text/plain": [
       "<IPython.core.display.HTML object>"
      ]
     },
     "metadata": {},
     "output_type": "display_data"
    },
    {
     "data": {
      "application/javascript": [
       "if (typeof Jupyter !== \"undefined\") { window.__context = { glowscript_container: $(\"#glowscript\").removeAttr(\"id\")};}else{ element.textContent = ' ';}"
      ],
      "text/plain": [
       "<IPython.core.display.Javascript object>"
      ]
     },
     "metadata": {},
     "output_type": "display_data"
    },
    {
     "name": "stdout",
     "output_type": "stream",
     "text": [
      "\n",
      " voeten\n",
      "   lengte  breedte  dikte    xloc    yloc  zloc  rx  ry  rz\n",
      "0     5.0      5.0    5.0  95.498  25.498   2.5   0   0   0\n",
      "1     5.0      5.0    5.0  95.498 -25.498   2.5   0   0   0\n",
      "2     5.0      5.0    5.0   0.000  25.498   2.5   0   0   0\n",
      "3     5.0      5.0    5.0   0.000 -25.498   2.5   0   0   0\n",
      "4     5.0      5.0    5.0 -95.498  25.498   2.5   0   0   0\n",
      "5     5.0      5.0    5.0 -95.498 -25.498   2.5   0   0   0\n",
      "\n",
      " onderkant\n",
      "    lengte  breedte  dikte  xloc    yloc   zloc  rx  ry  rz\n",
      "0  195.996   20.000  2.002   0.0 -17.998  6.001   0   0   0\n",
      "1  195.996   17.998  2.002   0.0  18.999  6.001   0   0   0\n",
      "2  195.996   17.998  2.002   0.0   1.001  6.001   0   0   0\n",
      "\n",
      " onder ribben\n",
      "   lengte  breedte  dikte    xloc  yloc   zloc  rx  ry  rz\n",
      "0  49.996      3.0    3.0  96.498   0.0  8.502   0   0  90\n",
      "1  49.996      3.0    3.0   0.000   0.0  8.502   0   0  90\n",
      "2  49.996      3.0    3.0 -96.498   0.0  8.502   0   0  90\n",
      "\n",
      " ribmax\n",
      "     lengte  breedte  dikte    xloc    yloc     zloc  rx  ry  rz\n",
      "0   290.996      3.0    3.0  96.498  26.498  152.500   0  90   0\n",
      "1   290.996      3.0    3.0  96.498 -26.498  152.500   0  90   0\n",
      "2   290.996      3.0    3.0   0.000  26.498  152.500   0  90   0\n",
      "3   290.996      3.0    3.0   0.000 -26.498  152.500   0  90   0\n",
      "4   290.996      3.0    3.0 -96.498  26.498  152.500   0  90   0\n",
      "5   290.996      3.0    3.0 -96.498 -26.498  152.500   0  90   0\n",
      "6    49.996      3.0    3.0  96.498   0.000  154.302   0   0  90\n",
      "7    49.996      3.0    3.0   0.000   0.000  154.302   0   0  90\n",
      "8    49.996      3.0    3.0 -96.498   0.000  154.302   0   0  90\n",
      "9    49.996      3.0    3.0  96.498   0.000  296.498   0   0  90\n",
      "10   49.996      3.0    3.0   0.000   0.000  296.498   0   0  90\n",
      "11   49.996      3.0    3.0 -96.498   0.000  296.498   0   0  90\n",
      "12   93.498      3.0    3.0  48.249 -26.498  156.304   0   0   0\n",
      "13   93.498      3.0    3.0 -48.249 -26.498  156.304   0   0   0\n",
      "\n",
      " bovenkant\n",
      "    lengte  breedte  dikte  xloc    yloc     zloc  rx  ry  rz\n",
      "0  195.996   20.000  2.002   0.0 -17.998  298.999   0   0   0\n",
      "1  195.996   17.998  2.002   0.0  18.999  298.999   0   0   0\n",
      "2  195.996   17.998  2.002   0.0   1.001  298.999   0   0   0\n",
      "\n",
      " achterrib\n",
      "   lengte  breedte  dikte    xloc    yloc     zloc  rx  ry  rz\n",
      "0  93.498      3.0    3.0  48.249 -26.498  156.304   0   0   0\n",
      "1  93.498      3.0    3.0 -48.249 -26.498  156.304   0   0   0\n",
      "\n",
      " vlonders\n",
      "    lengte  breedte  dikte  xloc    yloc     zloc  rx  ry  rz\n",
      "0  194.996   20.000  2.002   0.0 -14.998  156.803   0   0   0\n",
      "1  194.996   14.998  2.002   0.0  17.499  156.803   0   0   0\n",
      "2  194.996   14.998  2.002   0.0   2.501  156.803   0   0   0\n",
      "\n",
      " zeide links\n",
      "   lengte  breedte  dikte    xloc    yloc   zloc  rx  ry  rz\n",
      "0   295.0   20.000  2.002  98.999 -17.998  152.5   0  90   0\n",
      "1   295.0   17.998  2.002  98.999  18.999  152.5   0  90   0\n",
      "2   295.0   17.998  2.002  98.999   1.001  152.5   0  90   0\n",
      "\n",
      " zeide rechts\n",
      "   lengte  breedte  dikte    xloc    yloc   zloc  rx  ry  rz\n",
      "0   295.0   20.000  2.002 -98.999 -17.998  152.5   0  90   0\n",
      "1   295.0   17.998  2.002 -98.999  18.999  152.5   0  90   0\n",
      "2   295.0   17.998  2.002 -98.999   1.001  152.5   0  90   0\n",
      "\n",
      " achterkant\n",
      "   lengte  breedte  dikte  xloc    yloc   zloc  rx  ry  rz\n",
      "0   295.0     20.0  2.002  90.0 -28.999  152.5   0  90  90\n",
      "1   295.0     20.0  2.002  70.0 -28.999  152.5   0  90  90\n",
      "2   295.0     20.0  2.002  50.0 -28.999  152.5   0  90  90\n",
      "3   295.0     20.0  2.002  30.0 -28.999  152.5   0  90  90\n",
      "4   295.0     20.0  2.002  10.0 -28.999  152.5   0  90  90\n",
      "5   295.0     20.0  2.002 -10.0 -28.999  152.5   0  90  90\n",
      "6   295.0     20.0  2.002 -30.0 -28.999  152.5   0  90  90\n",
      "7   295.0     20.0  2.002 -50.0 -28.999  152.5   0  90  90\n",
      "8   295.0     20.0  2.002 -70.0 -28.999  152.5   0  90  90\n",
      "9   295.0     20.0  2.002 -90.0 -28.999  152.5   0  90  90\n",
      "\n",
      " voorkant\n",
      "   lengte  breedte  dikte   xloc    yloc   zloc  rx  ry  rz\n",
      "0   295.0      7.5  2.002  96.25  28.999  152.5   0  90  90\n",
      "1   295.0      7.5  2.002   0.00  28.999  152.5   0  90  90\n",
      "2   295.0      7.5  2.002 -96.25  28.999  152.5   0  90  90\n",
      "\n",
      " deur\n",
      "   lengte  breedte  dikte     xloc    yloc   zloc  rx  ry  rz\n",
      "0   295.0     20.0  2.002 -14.2500  28.999  152.5  90  90   0\n",
      "1   295.0     20.0  2.002 -34.2500  28.999  152.5  90  90   0\n",
      "2   295.0     20.0  2.002 -54.2500  28.999  152.5  90  90   0\n",
      "3   295.0     14.1  2.002 -71.3125  28.999  152.5  90  90   0\n",
      "4   295.0     14.1  2.002 -85.4375  28.999  152.5  90  90   0\n",
      "\n",
      " deur volledig\n",
      "   lengte  breedte  dikte     xloc    yloc   zloc  rx  ry  rz\n",
      "0   295.0     20.0  2.002  82.0000  28.999  152.5  90  90   0\n",
      "1   295.0     20.0  2.002  62.0000  28.999  152.5  90  90   0\n",
      "2   295.0     20.0  2.002  42.0000  28.999  152.5  90  90   0\n",
      "3   295.0     20.0  2.002 -14.2500  28.999  152.5  90  90   0\n",
      "4   295.0     20.0  2.002 -34.2500  28.999  152.5  90  90   0\n",
      "5   295.0     20.0  2.002 -54.2500  28.999  152.5  90  90   0\n",
      "6   295.0     14.1  2.002  24.9375  28.999  152.5  90  90   0\n",
      "7   295.0     14.1  2.002  10.8125  28.999  152.5  90  90   0\n",
      "8   295.0     14.1  2.002 -71.3125  28.999  152.5  90  90   0\n",
      "9   295.0     14.1  2.002 -85.4375  28.999  152.5  90  90   0\n",
      "\n",
      " stut\n",
      "   lengte  breedte  dikte    xloc    yloc        zloc  rx  ry  rz\n",
      "0    79.4     20.0  2.002 -48.375  26.997  250.833333  90   0   0\n",
      "1    79.4     20.0  2.002 -48.375  26.997  152.500000  90   0   0\n",
      "2    79.4     20.0  2.002 -48.375  26.997   54.166667  90   0   0\n",
      "\n",
      " stut volledig\n",
      "   lengte  breedte  dikte    xloc    yloc        zloc  rx  ry  rz\n",
      "0    79.4     20.0  2.002  47.875  26.997  250.833333  90   0   0\n",
      "1    79.4     20.0  2.002  47.875  26.997  152.500000  90   0   0\n",
      "2    79.4     20.0  2.002  47.875  26.997   54.166667  90   0   0\n",
      "3    79.4     20.0  2.002 -48.375  26.997  250.833333  90   0   0\n",
      "4    79.4     20.0  2.002 -48.375  26.997  152.500000  90   0   0\n",
      "5    79.4     20.0  2.002 -48.375  26.997   54.166667  90   0   0\n",
      "\n",
      " scharnier\n",
      "    lengte  breedte  dikte   xloc  yloc        zloc  rx  ry  rz\n",
      "0      5.0     10.0    1.0   1.25  30.5  250.833333  90   0   0\n",
      "1      5.0     10.0    1.0   1.25  30.5  152.500000  90   0   0\n",
      "2      5.0     10.0    1.0   1.25  30.5   54.166667  90   0   0\n",
      "3      5.0     10.0    1.0 -95.00  30.5  250.833333  90   0   0\n",
      "4      5.0     10.0    1.0 -95.00  30.5  152.500000  90   0   0\n",
      "5      5.0     10.0    1.0 -95.00  30.5   54.166667  90   0   0\n",
      "6     20.0      7.0    1.0  13.75  30.5  250.833333  90   0   0\n",
      "7     20.0      7.0    1.0  13.75  30.5  152.500000  90   0   0\n",
      "8     20.0      7.0    1.0  13.75  30.5   54.166667  90   0   0\n",
      "9     20.0      7.0    1.0 -82.50  30.5  250.833333  90   0   0\n",
      "10    20.0      7.0    1.0 -82.50  30.5  152.500000  90   0   0\n",
      "11    20.0      7.0    1.0 -82.50  30.5   54.166667  90   0   0\n",
      "\n",
      " slot\n",
      "   lengte  breedte  dikte    xloc  yloc   zloc  rx  ry  rz\n",
      "0     7.0      7.0    1.0  83.625  30.5  152.5  90   0   0\n",
      "1     7.0      7.0    1.0 -12.625  30.5  152.5  90   0   0\n",
      "Scene scene 1 - bottom started\n"
     ]
    },
    {
     "data": {
      "text/html": [
       "<div id=\"glowscript\" class=\"glowscript\"></div>"
      ],
      "text/plain": [
       "<IPython.core.display.HTML object>"
      ]
     },
     "metadata": {},
     "output_type": "display_data"
    },
    {
     "data": {
      "application/javascript": [
       "if (typeof Jupyter !== \"undefined\") { window.__context = { glowscript_container: $(\"#glowscript\").removeAttr(\"id\")};}else{ element.textContent = ' ';}"
      ],
      "text/plain": [
       "<IPython.core.display.Javascript object>"
      ]
     },
     "metadata": {},
     "output_type": "display_data"
    },
    {
     "data": {
      "application/javascript": [
       "if (typeof Jupyter !== \"undefined\") {require.undef(\"nbextensions/vpython_libraries/glow.min\");}else{element.textContent = ' ';}"
      ],
      "text/plain": [
       "<IPython.core.display.Javascript object>"
      ]
     },
     "metadata": {},
     "output_type": "display_data"
    },
    {
     "data": {
      "application/javascript": [
       "if (typeof Jupyter !== \"undefined\") {require.undef(\"nbextensions/vpython_libraries/glowcomm\");}else{element.textContent = ' ';}"
      ],
      "text/plain": [
       "<IPython.core.display.Javascript object>"
      ]
     },
     "metadata": {},
     "output_type": "display_data"
    },
    {
     "data": {
      "application/javascript": [
       "if (typeof Jupyter !== \"undefined\") {require.undef(\"nbextensions/vpython_libraries/jquery-ui.custom.min\");}else{element.textContent = ' ';}"
      ],
      "text/plain": [
       "<IPython.core.display.Javascript object>"
      ]
     },
     "metadata": {},
     "output_type": "display_data"
    },
    {
     "data": {
      "application/javascript": [
       "if (typeof Jupyter !== \"undefined\") {require([\"nbextensions/vpython_libraries/glow.min\"], function(){console.log(\"GLOW LOADED\");});}else{element.textContent = ' ';}"
      ],
      "text/plain": [
       "<IPython.core.display.Javascript object>"
      ]
     },
     "metadata": {},
     "output_type": "display_data"
    },
    {
     "data": {
      "application/javascript": [
       "if (typeof Jupyter !== \"undefined\") {require([\"nbextensions/vpython_libraries/glowcomm\"], function(){console.log(\"GLOWCOMM LOADED\");});}else{element.textContent = ' ';}"
      ],
      "text/plain": [
       "<IPython.core.display.Javascript object>"
      ]
     },
     "metadata": {},
     "output_type": "display_data"
    },
    {
     "data": {
      "application/javascript": [
       "if (typeof Jupyter !== \"undefined\") {require([\"nbextensions/vpython_libraries/jquery-ui.custom.min\"], function(){console.log(\"JQUERY LOADED\");});}else{element.textContent = ' ';}"
      ],
      "text/plain": [
       "<IPython.core.display.Javascript object>"
      ]
     },
     "metadata": {},
     "output_type": "display_data"
    },
    {
     "name": "stderr",
     "output_type": "stream",
     "text": [
      "/home/windhoos/hout-topologie/latex/step1_feet_bottom.py:42: FutureWarning: In future versions `DataFrame.to_latex` is expected to utilise the base implementation of `Styler.to_latex` for formatting and rendering. The arguments signature may therefore change. It is recommended instead to use `DataFrame.style.to_latex` which also contains additional functionality.\n",
      "  latex = latex.to_latex(index=False, position='h!',na_rep = '', float_format=\"%.1f\", decimal=',',caption=f'{lcaption}')\n"
     ]
    }
   ],
   "source": [
    "#!/usr/bin/env python3\n",
    "# -*- coding: utf-8 -*-\n",
    "\"\"\"\n",
    "Created on Tue Mar 29 21:26:30 2022\n",
    "\n",
    "@author: windhoos\n",
    "\"\"\"\n",
    "\n",
    "from latex import get_excel, scene, step1_feet_bottom, step2_rib_bottom, step3_ladder, step4_geraamte, step5_achterrib, step6_vlonders, step7_boven, step8_linksrechts, step9_achter, step10_deurpost, step11_deur, step12_compleet\n",
    "import time\n",
    "import os\n",
    "\n",
    "def main():\n",
    "    parent_dir = '/home/windhoos/hout-topologie/users'\n",
    "    directory = '01-08-2022-17-50-28-test'\n",
    "    path = os.path.join(parent_dir, directory)\n",
    "    \n",
    "    get_excel.build()\n",
    "    runlist=[1]\n",
    "    if runlist == [0]:\n",
    "        runlist=[1,2,3,4,5,6,7,8,9,10,11,12]\n",
    "    for i in range(len(runlist)):\n",
    "        run=runlist[i]\n",
    "        if run == 1:\n",
    "            name='scene 1 - bottom'\n",
    "            scene.start_scene(name)\n",
    "            step1_feet_bottom.build(path)\n",
    "            O=scene.cam_reset(1)\n",
    "            #arrow.origin(O)\n",
    "            scene.capture(path,name)\n",
    "            time.sleep(1)\n",
    "            scene.delete()\n",
    "            time.sleep(1)\n",
    "            \n",
    "        if run == 2:    \n",
    "            name='scene 2 - bottom rib'\n",
    "            scene.start_scene(name)\n",
    "            step2_rib_bottom.build()\n",
    "            O=scene.cam_reset(2)\n",
    "            #arrow.origin(O)\n",
    "            scene.capture(path,name)\n",
    "            time.sleep(1)\n",
    "            scene.delete()\n",
    "            time.sleep(1)\n",
    "            \n",
    "        if run == 3:\n",
    "            name='scene 3 - ladder'\n",
    "            scene.start_scene(name)\n",
    "            step3_ladder.build()\n",
    "            O=scene.cam_reset(3)\n",
    "            #arrow.origin(O)\n",
    "            scene.capture(path,name)\n",
    "            time.sleep(1)\n",
    "            scene.delete()\n",
    "            time.sleep(1)\n",
    "            \n",
    "        if run == 4:    \n",
    "            name='scene 4 - geraamte'\n",
    "            scene.start_scene(name)\n",
    "            step4_geraamte.build()\n",
    "            O=scene.cam_reset(4)\n",
    "            #arrow.origin(O)\n",
    "            scene.capture(path,name)\n",
    "            time.sleep(1)\n",
    "            scene.delete()\n",
    "            time.sleep(1)\n",
    "            \n",
    "        if run == 5: \n",
    "            name='scene 5 - achterrib a'\n",
    "            scene.start_scene(name)\n",
    "            step5_achterrib.build()\n",
    "            O=scene.cam_reset(51)\n",
    "            #arrow.origin(O)\n",
    "            scene.capture(path,name)\n",
    "            time.sleep(1)\n",
    "            name='scene 5 - achterrib b'\n",
    "            O=scene.cam_reset(52)\n",
    "            #arrow.origin(O)\n",
    "            scene.capture(path, name)\n",
    "            time.sleep(1)\n",
    "            scene.delete()\n",
    "            time.sleep(1)\n",
    "            \n",
    "        if run == 6: \n",
    "            name='scene 6 - vlonders a'\n",
    "            scene.start_scene(name)\n",
    "            step6_vlonders.build()\n",
    "            O=scene.cam_reset(61)\n",
    "            #arrow.origin(O)\n",
    "            scene.capture(path, name)\n",
    "            time.sleep(1)\n",
    "            name='scene 6 - vlonders b'\n",
    "            O=scene.cam_reset(62)\n",
    "            #arrow.origin(O)\n",
    "            scene.capture(path, name)\n",
    "            time.sleep(1)\n",
    "            scene.delete()\n",
    "            time.sleep(1)\n",
    "            \n",
    "        if run == 7: \n",
    "            name='scene 7 - boven'\n",
    "            scene.start_scene(name)\n",
    "            step7_boven.build()\n",
    "            O=scene.cam_reset(7)\n",
    "            #arrow.origin(O)\n",
    "            scene.capture(path, name)\n",
    "            time.sleep(1)\n",
    "            scene.delete()\n",
    "            time.sleep(1)\n",
    "            \n",
    "        if run == 8: \n",
    "            name='scene 8 - links/rechts'\n",
    "            scene.start_scene(name)\n",
    "            step8_linksrechts.build()\n",
    "            O=scene.cam_reset(8)\n",
    "            #arrow.origin(O)\n",
    "            scene.capture(path, name)\n",
    "            time.sleep(1)\n",
    "            scene.delete()\n",
    "            time.sleep(1)\n",
    "            \n",
    "        if run == 9: \n",
    "            name='scene 9 - achterkant a'\n",
    "            scene.start_scene(name)\n",
    "            step9_achter.build()\n",
    "            O=scene.cam_reset(91)\n",
    "            #arrow.origin(O)\n",
    "            scene.capture(path, name)\n",
    "            time.sleep(1)\n",
    "            name='scene 9 - achterkant b'\n",
    "            O=scene.cam_reset(92)\n",
    "            #arrow.origin(O)\n",
    "            scene.capture(path, name)\n",
    "            time.sleep(1)\n",
    "            scene.delete()\n",
    "            time.sleep(1)\n",
    "            \n",
    "        if run == 10: \n",
    "            name='scene 10 - deurpost a'\n",
    "            scene.start_scene(name)\n",
    "            step10_deurpost.build()\n",
    "            O=scene.cam_reset(101)\n",
    "            #arrow.origin(O)\n",
    "            scene.capture(path,name)\n",
    "            time.sleep(1)\n",
    "            name='scene 10 - deurpost b'\n",
    "            O=scene.cam_reset(102)\n",
    "            scene.capture(path, name)\n",
    "            time.sleep(1)\n",
    "            scene.delete()\n",
    "            time.sleep(1)\n",
    "            \n",
    "        if run == 11: \n",
    "            name='scene 11 - deur'\n",
    "            scene.start_scene(name)\n",
    "            step11_deur.build()\n",
    "            O=scene.cam_reset(11)\n",
    "            #arrow.origin(O)\n",
    "            scene.capture(path, name)\n",
    "            time.sleep(1)\n",
    "            scene.delete()\n",
    "            time.sleep(1)\n",
    "            \n",
    "        if run == 12: \n",
    "            name='scene 12 - compleet'\n",
    "            scene.start_scene(name)\n",
    "            step12_compleet.build()\n",
    "            O=scene.cam_reset(12)\n",
    "            #arrow.origin(O)\n",
    "            scene.capture(path, name)\n",
    "            time.sleep(1)\n",
    "            scene.delete()\n",
    "            time.sleep(1)\n",
    "main()"
   ]
  },
  {
   "cell_type": "code",
   "execution_count": null,
   "id": "1e2bbb83-84c8-4c2c-b651-cbfe8a8f55e1",
   "metadata": {},
   "outputs": [],
   "source": []
  }
 ],
 "metadata": {
  "kernelspec": {
   "display_name": "Python 3 (ipykernel)",
   "language": "python",
   "name": "python3"
  },
  "language_info": {
   "codemirror_mode": {
    "name": "ipython",
    "version": 3
   },
   "file_extension": ".py",
   "mimetype": "text/x-python",
   "name": "python",
   "nbconvert_exporter": "python",
   "pygments_lexer": "ipython3",
   "version": "3.10.5"
  }
 },
 "nbformat": 4,
 "nbformat_minor": 5
}
