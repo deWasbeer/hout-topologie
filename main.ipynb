{
 "cells": [
  {
   "cell_type": "code",
   "execution_count": null,
   "metadata": {},
   "outputs": [
    {
     "data": {
      "text/html": [
       "<div id=\"glowscript\" class=\"glowscript\"></div>"
      ],
      "text/plain": [
       "<IPython.core.display.HTML object>"
      ]
     },
     "metadata": {},
     "output_type": "display_data"
    },
    {
     "data": {
      "application/javascript": [
       "if (typeof Jupyter !== \"undefined\") { window.__context = { glowscript_container: $(\"#glowscript\").removeAttr(\"id\")};}else{ element.textContent = ' ';}"
      ],
      "text/plain": [
       "<IPython.core.display.Javascript object>"
      ]
     },
     "metadata": {},
     "output_type": "display_data"
    },
    {
     "data": {
      "text/html": [
       "<div id=\"glowscript\" class=\"glowscript\"></div>"
      ],
      "text/plain": [
       "<IPython.core.display.HTML object>"
      ]
     },
     "metadata": {},
     "output_type": "display_data"
    },
    {
     "data": {
      "application/javascript": [
       "if (typeof Jupyter !== \"undefined\") { window.__context = { glowscript_container: $(\"#glowscript\").removeAttr(\"id\")};}else{ element.textContent = ' ';}"
      ],
      "text/plain": [
       "<IPython.core.display.Javascript object>"
      ]
     },
     "metadata": {},
     "output_type": "display_data"
    },
    {
     "data": {
      "application/javascript": [
       "if (typeof Jupyter !== \"undefined\") {require.undef(\"nbextensions/vpython_libraries/glow.min\");}else{element.textContent = ' ';}"
      ],
      "text/plain": [
       "<IPython.core.display.Javascript object>"
      ]
     },
     "metadata": {},
     "output_type": "display_data"
    },
    {
     "data": {
      "application/javascript": [
       "if (typeof Jupyter !== \"undefined\") {require.undef(\"nbextensions/vpython_libraries/glowcomm\");}else{element.textContent = ' ';}"
      ],
      "text/plain": [
       "<IPython.core.display.Javascript object>"
      ]
     },
     "metadata": {},
     "output_type": "display_data"
    },
    {
     "data": {
      "application/javascript": [
       "if (typeof Jupyter !== \"undefined\") {require.undef(\"nbextensions/vpython_libraries/jquery-ui.custom.min\");}else{element.textContent = ' ';}"
      ],
      "text/plain": [
       "<IPython.core.display.Javascript object>"
      ]
     },
     "metadata": {},
     "output_type": "display_data"
    },
    {
     "data": {
      "application/javascript": [
       "if (typeof Jupyter !== \"undefined\") {require([\"nbextensions/vpython_libraries/glow.min\"], function(){console.log(\"GLOW LOADED\");});}else{element.textContent = ' ';}"
      ],
      "text/plain": [
       "<IPython.core.display.Javascript object>"
      ]
     },
     "metadata": {},
     "output_type": "display_data"
    },
    {
     "data": {
      "application/javascript": [
       "if (typeof Jupyter !== \"undefined\") {require([\"nbextensions/vpython_libraries/glowcomm\"], function(){console.log(\"GLOWCOMM LOADED\");});}else{element.textContent = ' ';}"
      ],
      "text/plain": [
       "<IPython.core.display.Javascript object>"
      ]
     },
     "metadata": {},
     "output_type": "display_data"
    },
    {
     "data": {
      "application/javascript": [
       "if (typeof Jupyter !== \"undefined\") {require([\"nbextensions/vpython_libraries/jquery-ui.custom.min\"], function(){console.log(\"JQUERY LOADED\");});}else{element.textContent = ' ';}"
      ],
      "text/plain": [
       "<IPython.core.display.Javascript object>"
      ]
     },
     "metadata": {},
     "output_type": "display_data"
    }
   ],
   "source": [
    "from onderdelen import input_data, voeten, onderstel, ribben, zeiplanken, achterplank, vlonders, achterrib, voorkant, updater,reset\n",
    "from onderdelen import config as cfg\n",
    "from onderdelen import plotter\n",
    "import os\n",
    "from datetime import date, datetime\n",
    "#import pathlib\n",
    "\n",
    "import time\n",
    "\n",
    "def main():\n",
    "    user = 'John Doe'\n",
    "    user = user.replace(' ', '-')\n",
    "    user = user.replace('@', '\\@')\n",
    "    user = user.replace('_', '\\_')\n",
    "    email = 'Jhon_Doe@gmail.com'\n",
    "    email = email.replace(' ', '-')\n",
    "    email = email.replace('@', '\\@')\n",
    "    email = email.replace('_', '\\_')\n",
    "    lang = 'EN'\n",
    "    today = date.today()\n",
    "    day = today.strftime(\"%d-%m-%Y\")\n",
    "    now = datetime.now()\n",
    "    ct = now.strftime(\"%H-%M-%S\")\n",
    "    directory = day+'-'+ct+'-'+user\n",
    "    directory2 = os.path.join('users', directory)\n",
    "    parent_dir = os.path.abspath('') #pathlib.Path(__file__).parent.resolve() #'~/hout-topologie/users'\n",
    "    path = os.path.join(parent_dir, directory2)\n",
    "    os.makedirs(path) \n",
    "    \n",
    "    plotter.build_scene()\n",
    "    wait=True\n",
    "    while cfg.reset_loop == True:\n",
    "        #print('reloop')\n",
    "        while wait == True:\n",
    "            #print('wait')\n",
    "            time.sleep(1)\n",
    "            if cfg.build_state == True:\n",
    "                wait = False\n",
    "        cfg.build_state = False\n",
    "        wait=True\n",
    "            \n",
    "        #input_data.input_data()\n",
    "        cfg.niveaus = 1\n",
    "        cfg.plankhoogte.append(cfg.breedte_rib*2+cfg.dikte_plank+cfg.hoogte_voet+cfg.dikte_plank-cfg.hoogte_voet-cfg.dikte_plank)\n",
    "            \n",
    "        Voeten=voeten.maak()\n",
    "        Onderstel=onderstel.maak()\n",
    "        Zeiden=zeiplanken.maak()\n",
    "        Achterplank=achterplank.maak()\n",
    "        Voorkant,Scharnier=voorkant.maak(0)\n",
    "        Voorkant120,Scharnier120=voorkant.maak(120)\n",
    "        \n",
    "        Ribben=ribben.maak()\n",
    "        Achterrib=achterrib.maak()\n",
    "        Vlonders=vlonders.maak()\n",
    "        \n",
    "        #plotten\n",
    "        amax=max(cfg.breedte_kast,cfg.hoogte_kast,cfg.diepte_kast)\n",
    "        \n",
    "        plotter.vpythonplot(cfg.breedte_kast,cfg.hoogte_kast,cfg.diepte_kast,amax,'iso',Voeten,Onderstel,Ribben,Zeiden,Achterplank,Vlonders,Achterrib, Voorkant, Voorkant120, Scharnier, Scharnier120)\n",
    "        \n",
    "        finish = False\n",
    "        while finish != True:\n",
    "            #print('wait2')\n",
    "            cfg.df_ribben=[]\n",
    "            Ribben=ribben.maak()\n",
    "            Achterrib=achterrib.maak()\n",
    "            cfg.df_vlonders=[]\n",
    "            Vlonders=vlonders.maak()\n",
    "                \n",
    "            plotter.plotniveau(Ribben,Vlonders,Achterrib)\n",
    "    \n",
    "            updater.update(path,user,email,lang,day,ct)\n",
    "            \n",
    "            #print(cfg.df_ribben)\n",
    "            \n",
    "            #cfg.update_graph = True\n",
    "            \n",
    "            if cfg.reset == True:\n",
    "                #print('reset triggered')\n",
    "                finish = True\n",
    "                reset.reset()\n",
    "                \n",
    "            if cfg.finish_drawing == True:\n",
    "                cfg.reset_loop == False\n",
    "                finish = True\n",
    "        \n",
    "main()"
   ]
  },
  {
   "cell_type": "code",
   "execution_count": null,
   "metadata": {},
   "outputs": [],
   "source": []
  }
 ],
 "metadata": {
  "kernelspec": {
   "display_name": "Python 3 (ipykernel)",
   "language": "python",
   "name": "python3"
  },
  "language_info": {
   "codemirror_mode": {
    "name": "ipython",
    "version": 3
   },
   "file_extension": ".py",
   "mimetype": "text/x-python",
   "name": "python",
   "nbconvert_exporter": "python",
   "pygments_lexer": "ipython3",
   "version": "3.10.5"
  }
 },
 "nbformat": 4,
 "nbformat_minor": 2
}
